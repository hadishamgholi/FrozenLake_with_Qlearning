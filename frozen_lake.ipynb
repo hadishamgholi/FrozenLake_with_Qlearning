{
 "cells": [
  {
   "cell_type": "code",
   "execution_count": 5,
   "metadata": {},
   "outputs": [],
   "source": [
    "import gym\n",
    "from termcolor import cprint\n",
    "import numpy as np\n",
    "from IPython.display import clear_output\n",
    "import time\n",
    "from gym.envs.toy_text.frozen_lake import FrozenLakeEnv"
   ]
  },
  {
   "cell_type": "code",
   "execution_count": 6,
   "metadata": {},
   "outputs": [],
   "source": [
    "b_color = 'blue'\n",
    "r_color = 'red'\n",
    "g_color = 'green'"
   ]
  },
  {
   "cell_type": "code",
   "execution_count": 7,
   "metadata": {},
   "outputs": [
    {
     "name": "stdout",
     "output_type": "stream",
     "text": [
      "\n",
      "\u001b[41mS\u001b[0mFFF\n",
      "FHFH\n",
      "FFFH\n",
      "HFFG\n"
     ]
    }
   ],
   "source": [
    "\n",
    "env = FrozenLakeEnv(is_slippery=False)\n",
    "env.reset()\n",
    "env.render()"
   ]
  },
  {
   "cell_type": "code",
   "execution_count": 8,
   "metadata": {},
   "outputs": [],
   "source": [
    "actions_num = 4\n",
    "action_name = {0:'up', 1:'right', 2:'down', 3:'left'}"
   ]
  },
  {
   "cell_type": "code",
   "execution_count": 9,
   "metadata": {},
   "outputs": [],
   "source": [
    "q_table = np.zeros(shape=(env.observation_space.n, env.action_space.n))"
   ]
  },
  {
   "cell_type": "code",
   "execution_count": 37,
   "metadata": {},
   "outputs": [],
   "source": [
    "# learning rate\n",
    "alpha = .1\n",
    "# discount factor: determines how much importance we want to give to future rewards\n",
    "gamma = .6\n",
    "epsilone = .1"
   ]
  },
  {
   "cell_type": "code",
   "execution_count": 39,
   "metadata": {},
   "outputs": [
    {
     "name": "stdout",
     "output_type": "stream",
     "text": [
      "iteration: 100000\n"
     ]
    }
   ],
   "source": [
    "n_iter = 100000\n",
    "for i in range(1, n_iter + 1):\n",
    "    done = False\n",
    "    state = env.reset()\n",
    "    while not done:\n",
    "        if np.random.uniform() > epsilone:\n",
    "            action = np.argmax(q_table[state]) # Exploit\n",
    "        else:\n",
    "            action = env.action_space.sample() # Explore\n",
    "        \n",
    "        new_state ,reward, done, info = env.step(action)\n",
    "\n",
    "        old_value = q_table[state, action]\n",
    "        future_reward = np.max(q_table[new_state])\n",
    "        q_table[state, action] = (1-alpha) * old_value  + alpha * (reward + gamma * future_reward)\n",
    "        state = new_state\n",
    "        \n",
    "        if done:\n",
    "            break\n",
    "    \n",
    "    if i % 100 == 0:\n",
    "        clear_output(wait=True)\n",
    "        print(f'iteration: {i}')"
   ]
  },
  {
   "cell_type": "code",
   "execution_count": 49,
   "metadata": {},
   "outputs": [
    {
     "data": {
      "text/plain": [
       "array([[ 4.666e-002,  7.776e-002,  7.776e-002,  4.666e-002],\n",
       "       [ 4.666e-002, -1.456e-003,  1.296e-001,  7.776e-002],\n",
       "       [ 7.776e-002,  2.160e-001,  7.776e-002,  1.296e-001],\n",
       "       [ 1.296e-001, -9.000e-001,  7.776e-002,  7.776e-002],\n",
       "       [ 7.776e-002,  1.296e-001, -1.304e-120,  4.666e-002],\n",
       "       [ 0.000e+000,  0.000e+000,  0.000e+000,  0.000e+000],\n",
       "       [-2.427e-004,  3.600e-001, -1.310e-003,  1.296e-001],\n",
       "       [ 0.000e+000,  0.000e+000,  0.000e+000,  0.000e+000],\n",
       "       [ 1.296e-001, -1.192e-119,  2.160e-001,  7.776e-002],\n",
       "       [ 1.296e-001,  3.600e-001,  3.600e-001, -2.054e-111],\n",
       "       [ 2.160e-001,  6.000e-001, -8.577e-011,  2.160e-001],\n",
       "       [ 0.000e+000,  0.000e+000,  0.000e+000,  0.000e+000],\n",
       "       [ 0.000e+000,  0.000e+000,  0.000e+000,  0.000e+000],\n",
       "       [-1.821e-112,  3.600e-001,  6.000e-001,  2.160e-001],\n",
       "       [ 3.600e-001,  6.000e-001,  1.000e+000,  3.600e-001],\n",
       "       [ 0.000e+000,  0.000e+000,  0.000e+000,  0.000e+000]])"
      ]
     },
     "execution_count": 49,
     "metadata": {},
     "output_type": "execute_result"
    }
   ],
   "source": [
    "q_table\n",
    "# env.P[14]"
   ]
  },
  {
   "cell_type": "code",
   "execution_count": 51,
   "metadata": {},
   "outputs": [
    {
     "name": "stdout",
     "output_type": "stream",
     "text": [
      "step: 5\n",
      "  (Right)\n",
      "SFFF\n",
      "FHFH\n",
      "FFFH\n",
      "HFF\u001b[41mG\u001b[0m\n",
      "None\n"
     ]
    }
   ],
   "source": [
    "print(env.render())\n",
    "max_step_n = 100\n",
    "i = 0\n",
    "state = env.reset()\n",
    "while i < max_step_n:\n",
    "    time.sleep(1)\n",
    "    best_action = np.argmax(q_table[state])\n",
    "    state, _, done, _ = env.step(best_action)\n",
    "    clear_output(wait=True)\n",
    "    print(f'step: {i}')\n",
    "    print(env.render())\n",
    "    if done:\n",
    "        break\n",
    "    i += 1"
   ]
  }
 ],
 "metadata": {
  "kernelspec": {
   "display_name": "Python 3",
   "language": "python",
   "name": "python3"
  },
  "language_info": {
   "codemirror_mode": {
    "name": "ipython",
    "version": 3
   },
   "file_extension": ".py",
   "mimetype": "text/x-python",
   "name": "python",
   "nbconvert_exporter": "python",
   "pygments_lexer": "ipython3",
   "version": "3.6.8"
  }
 },
 "nbformat": 4,
 "nbformat_minor": 2
}
